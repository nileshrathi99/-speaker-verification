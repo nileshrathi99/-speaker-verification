{
 "cells": [
  {
   "cell_type": "code",
   "execution_count": 1,
   "metadata": {},
   "outputs": [
    {
     "name": "stdout",
     "output_type": "stream",
     "text": [
      "cuda:0\n"
     ]
    }
   ],
   "source": [
    "import torch\n",
    "import numpy as np\n",
    "import torch.nn as nn\n",
    "import matplotlib.pyplot as plt\n",
    "import torchvision\n",
    "import torchvision.transforms as transforms\n",
    "from torch.utils.data import DataLoader, random_split\n",
    "from tqdm import trange\n",
    "import copy\n",
    "import pickle, random\n",
    "import librosa \n",
    "\n",
    "from IPython.display import Audio\n",
    "import soundfile as sf\n",
    "\n",
    "device = torch.device(\"cuda:0\" if torch.cuda.is_available() else \"cpu\")\n",
    "print(device)"
   ]
  },
  {
   "cell_type": "code",
   "execution_count": 2,
   "metadata": {},
   "outputs": [
    {
     "name": "stdout",
     "output_type": "stream",
     "text": [
      "True\n",
      "11.7\n",
      "1.13.1\n"
     ]
    }
   ],
   "source": [
    "print(torch.cuda.is_available())\n",
    "print(torch.version.cuda)\n",
    "print(torch.__version__)"
   ]
  },
  {
   "attachments": {},
   "cell_type": "markdown",
   "metadata": {},
   "source": [
    "### MNIST data"
   ]
  },
  {
   "cell_type": "code",
   "execution_count": 47,
   "metadata": {},
   "outputs": [],
   "source": [
    "def view_training_graphs(training_loss, validation_loss, validation_accuracy, title = ''):\n",
    "    # Create a figure with two subplots\n",
    "    fig, (ax1, ax2, ax3) = plt.subplots(1, 3, figsize=(12, 4))\n",
    "\n",
    "    # Plot the training loss\n",
    "    ax1.plot(training_loss, color='blue')\n",
    "    ax1.set_xlabel('Epoch')\n",
    "    ax1.set_title('Training Loss')\n",
    "\n",
    "    # Plot the validation loss\n",
    "    ax2.plot(validation_loss, color='blue')\n",
    "    ax2.set_xlabel('Epoch')\n",
    "    ax2.set_title('Validation Loss')\n",
    "\n",
    "    # Plot the validation accuracy\n",
    "    ax3.plot(validation_accuracy, color='red')\n",
    "    ax3.set_xlabel('Epoch')\n",
    "    ax3.set_title('Validation Accuracy')\n",
    "\n",
    "    # Display the figure\n",
    "    fig.suptitle(title)\n",
    "    plt.tight_layout()\n",
    "    \n",
    "    return plt.show()"
   ]
  },
  {
   "cell_type": "code",
   "execution_count": 3,
   "metadata": {},
   "outputs": [],
   "source": [
    "# Load the training data from trs.pkl\n",
    "with open('trs.pkl', 'rb') as trs_file:\n",
    "    trs = pickle.load(trs_file)\n",
    "\n",
    "# Load the test data from tes.pkl\n",
    "with open('tes.pkl', 'rb') as tes_file:\n",
    "    tes = pickle.load(tes_file)"
   ]
  },
  {
   "cell_type": "code",
   "execution_count": 63,
   "metadata": {},
   "outputs": [
    {
     "data": {
      "text/plain": [
       "500"
      ]
     },
     "execution_count": 63,
     "metadata": {},
     "output_type": "execute_result"
    }
   ],
   "source": [
    "len(trs)"
   ]
  },
  {
   "cell_type": "code",
   "execution_count": 4,
   "metadata": {},
   "outputs": [],
   "source": [
    "num_utterances = 10  # Number of utterances per speaker"
   ]
  },
  {
   "cell_type": "code",
   "execution_count": 5,
   "metadata": {},
   "outputs": [
    {
     "data": {
      "text/plain": [
       "(513, 45)"
      ]
     },
     "execution_count": 5,
     "metadata": {},
     "output_type": "execute_result"
    }
   ],
   "source": [
    "S=librosa.stft(tes[0], n_fft=1024, hop_length=512)\n",
    "S.shape\n"
   ]
  },
  {
   "cell_type": "code",
   "execution_count": 67,
   "metadata": {},
   "outputs": [
    {
     "name": "stdout",
     "output_type": "stream",
     "text": [
      "2250 2250\n"
     ]
    }
   ],
   "source": [
    "positive_pairs, negative_pairs = [], []\n",
    "for speaker in range(len(trs) // num_utterances):\n",
    "    exclude_range = list(range(speaker * num_utterances, speaker * num_utterances + num_utterances))\n",
    "    available_indices = [x for x in list(range(len(trs))) if x not in exclude_range]\n",
    "    for i in range(10):\n",
    "        for j in range(i + 1, 10):\n",
    "            positive_pairs.append((trs[speaker * num_utterances + i], trs[speaker * num_utterances + j], 1))\n",
    "            negative_pairs.append((trs[random.choice(exclude_range)], trs[random.choice(available_indices)], 0))\n",
    "\n",
    "print(len(positive_pairs), len(negative_pairs))"
   ]
  },
  {
   "cell_type": "code",
   "execution_count": 68,
   "metadata": {},
   "outputs": [
    {
     "name": "stdout",
     "output_type": "stream",
     "text": [
      "900 900\n"
     ]
    }
   ],
   "source": [
    "positive_pairs_val, negative_pairs_val = [], []\n",
    "for speaker in range(len(tes) // num_utterances):\n",
    "    exclude_range = list(range(speaker * num_utterances, speaker * num_utterances + num_utterances))\n",
    "    available_indices = [x for x in list(range(len(tes))) if x not in exclude_range]\n",
    "    for i in range(10):\n",
    "        for j in range(i + 1, 10):\n",
    "            positive_pairs_val.append((tes[speaker * num_utterances + i], tes[speaker * num_utterances + j], 1))\n",
    "            negative_pairs_val.append((tes[random.choice(exclude_range)], tes[random.choice(available_indices)], 0))\n",
    "\n",
    "print(len(positive_pairs_val), len(negative_pairs_val))"
   ]
  },
  {
   "cell_type": "code",
   "execution_count": 8,
   "metadata": {},
   "outputs": [],
   "source": [
    "pairs_train = positive_pairs + negative_pairs\n",
    "random.shuffle(pairs_train)\n",
    "\n",
    "pairs_val = positive_pairs_val + negative_pairs_val\n",
    "random.shuffle(pairs_val)"
   ]
  },
  {
   "cell_type": "code",
   "execution_count": 69,
   "metadata": {},
   "outputs": [],
   "source": [
    "def pad_or_trim(spectrogram, max_time_frames, axis=1):\n",
    "    if spectrogram.shape[axis] < max_time_frames:\n",
    "        # Pad the spectrogram with zeros at the end to match the max_time_frames along the specified axis\n",
    "        pad_width = [(0, 0)] * len(spectrogram.shape)\n",
    "        pad_width[axis] = (0, max_time_frames - spectrogram.shape[axis])\n",
    "        padded = np.pad(spectrogram, pad_width, mode='constant')\n",
    "        return padded\n",
    "    elif spectrogram.shape[axis] > max_time_frames:\n",
    "        # Trim the spectrogram to match the max_time_frames along the specified axis\n",
    "        if axis == 0:\n",
    "            trimmed = spectrogram[:max_time_frames, :]\n",
    "        else:\n",
    "            trimmed = spectrogram[:, :max_time_frames]\n",
    "        return trimmed\n",
    "    else:\n",
    "        # No change needed if the spectrogram already has the desired shape\n",
    "        return spectrogram"
   ]
  },
  {
   "cell_type": "code",
   "execution_count": 70,
   "metadata": {},
   "outputs": [],
   "source": [
    "max_time_frames = 45"
   ]
  },
  {
   "cell_type": "code",
   "execution_count": 107,
   "metadata": {},
   "outputs": [],
   "source": [
    "# Define a custom dataset for loading the pairs\n",
    "class SiameseDataset(torch.utils.data.Dataset):\n",
    "    def __init__(self, pairs, transform=True):\n",
    "        self.pairs = pairs\n",
    "        self.transform = transform\n",
    "\n",
    "    def __len__(self):\n",
    "        return len(self.pairs)\n",
    "\n",
    "    def __getitem__(self, index):\n",
    "        utterance1, utterance2, label = self.pairs[index]\n",
    "        if self.transform:\n",
    "            \n",
    "            utterance1_S = librosa.stft(utterance1, n_fft=1024, hop_length=512)\n",
    "            utterance1_S = pad_or_trim(utterance1_S, max_time_frames)\n",
    "            utterance1_S_tensor = torch.tensor(np.abs(utterance1_S), dtype = torch.float32)\n",
    "            \n",
    "            utterance2_S = librosa.stft(utterance2, n_fft=1024, hop_length=512)\n",
    "            utterance2_S = pad_or_trim(utterance2_S, max_time_frames)\n",
    "            utterance2_S_tensor = torch.tensor(np.abs(utterance2_S), dtype = torch.float32)\n",
    "        \n",
    "        return utterance1_S_tensor.T, utterance2_S_tensor.T, label\n",
    "\n",
    "batch_size = 32\n",
    "# Create a data loader for training\n",
    "train_dataset = SiameseDataset(pairs_train)\n",
    "trainloader = DataLoader(train_dataset, batch_size=batch_size, shuffle=True, num_workers=16)\n",
    "\n",
    "# Create a data loader for training\n",
    "val_dataset = SiameseDataset(pairs_val)\n",
    "valloader = DataLoader(val_dataset, batch_size=batch_size, shuffle=True, num_workers=16)"
   ]
  },
  {
   "cell_type": "code",
   "execution_count": 108,
   "metadata": {},
   "outputs": [],
   "source": [
    "class Siamese(nn.Module):\n",
    "    def __init__(self):\n",
    "        super(Siamese, self).__init__()\n",
    "        self.gru1 = nn.GRU(input_size=513, hidden_size=512, batch_first=True)\n",
    "        self.gru2 = nn.GRU(input_size=512, hidden_size=512, batch_first=True)\n",
    "        self.out = nn.Linear(512 * 45, 1)\n",
    "        self.relu = nn.ReLU()\n",
    "        self.dropout = nn.Dropout(p = 0.5)\n",
    "        self.initialize_weights()\n",
    "\n",
    "    def initialize_weights(self):\n",
    "        nn.init.kaiming_normal_(self.out.weight)\n",
    "    \n",
    "    def output(self, o1, o2):\n",
    "        x = o1 * o2\n",
    "        x = torch.flatten(x, 1) \n",
    "        return torch.sigmoid(self.out(x))\n",
    "\n",
    "    def forward(self, x):\n",
    "        x, _ = self.gru1(x)\n",
    "        x, _ = self.gru2(x)\n",
    "        return x  "
   ]
  },
  {
   "cell_type": "code",
   "execution_count": 109,
   "metadata": {},
   "outputs": [],
   "source": [
    "def validate_siamese_model(model, criterion, valloader):\n",
    "    with torch.no_grad():\n",
    "        correct, total, running_validation_loss = 0, 0, 0\n",
    "        for i, (audio1, audio2, labels) in enumerate(valloader):\n",
    "            audio1, audio2, labels = audio1.to(device), audio2.to(device), labels.to(device)\n",
    "            labels = labels.float().unsqueeze(1)\n",
    "            o1, o2 = model(audio1), model(audio2)\n",
    "            outputs = model.output(o1, o2)\n",
    "            loss = criterion(outputs, labels)\n",
    "            running_validation_loss += loss.item()\n",
    "            predicted = torch.round(outputs)\n",
    "            total += len(labels)\n",
    "            correct += (predicted == labels).sum()\n",
    "        \n",
    "        validation_accuracy = 100 * correct / total\n",
    "        total_validation_loss = (running_validation_loss) / len(valloader)\n",
    "        return validation_accuracy.cpu().numpy(), total_validation_loss"
   ]
  },
  {
   "cell_type": "code",
   "execution_count": 110,
   "metadata": {},
   "outputs": [],
   "source": [
    "# common function to train and validate\n",
    "def train_siamese_model(model, criterion, optimizer, trainloader, valloader = None, epochs = 100, validate = True, print_after_epoch = 1, prev_validation_accuracy = -1, prev_validation_loss = -1):\n",
    "    \n",
    "    training_loss_per_epoch, validation_loss_per_epoch, validation_accuracy_per_epoch = [], [], []\n",
    "    pbar = trange(epochs, unit=\"epoch\")\n",
    "    best_loss = np.inf\n",
    "    best_model_state = None\n",
    "    running_training_loss = 0\n",
    "    \n",
    "    # before train\n",
    "    _, total_training_loss = validate_siamese_model(model, criterion, trainloader)\n",
    "    validation_accuracy, total_validation_loss = validate_siamese_model(model, criterion, valloader)\n",
    "\n",
    "    training_loss_per_epoch.append(total_training_loss)\n",
    "    validation_loss_per_epoch.append(total_validation_loss)\n",
    "    validation_accuracy_per_epoch.append(validation_accuracy)\n",
    "\n",
    "    for epoch in pbar:\n",
    "        running_training_loss = 0\n",
    "        for i, (audio1, audio2, labels) in enumerate(trainloader):\n",
    "            audio1, audio2, labels = audio1.to(device), audio2.to(device), labels.to(device)\n",
    "            labels = labels.float().unsqueeze(1)\n",
    "            o1, o2 = model(audio1), model(audio2)\n",
    "            outputs = model.output(o1, o2)\n",
    "            loss = criterion(outputs, labels)\n",
    "            running_training_loss += loss.item()\n",
    "\n",
    "            # back propagation\n",
    "            optimizer.zero_grad()\n",
    "            loss.backward()\n",
    "            optimizer.step()\n",
    "\n",
    "        # Print the loss for each epoch\n",
    "        total_training_loss = (running_training_loss) / len(trainloader)\n",
    "        if (epoch + 1) % print_after_epoch == 0:\n",
    "            training_loss_per_epoch.append(total_training_loss)\n",
    "\n",
    "        # validate\n",
    "        validation_accuracy = prev_validation_accuracy\n",
    "        total_validation_loss = prev_validation_loss\n",
    "        if validate and (epoch + 1) % print_after_epoch == 0:\n",
    "            with torch.no_grad():\n",
    "                correct, total, running_validation_loss = 0, 0, 0\n",
    "                for i, (audio1, audio2, labels) in enumerate(valloader):\n",
    "                    audio1, audio2, labels = audio1.to(device), audio2.to(device), labels.to(device)\n",
    "                    labels = labels.float().unsqueeze(1)\n",
    "                    o1, o2 = model(audio1), model(audio2)\n",
    "                    outputs = model.output(o1, o2)\n",
    "                    loss = criterion(outputs, labels)\n",
    "                    running_validation_loss += loss.item()\n",
    "                    predicted = torch.round(outputs)\n",
    "                    total += len(labels)\n",
    "                    correct += (predicted == labels).sum()\n",
    "\n",
    "                \n",
    "                validation_accuracy = 100 * correct / total\n",
    "                total_validation_loss = (running_validation_loss) / len(valloader)\n",
    "                validation_accuracy_per_epoch.append(validation_accuracy.cpu().numpy())\n",
    "                validation_loss_per_epoch.append(total_validation_loss)\n",
    "                prev_validation_accuracy = validation_accuracy\n",
    "                prev_validation_loss = total_validation_loss\n",
    "        \n",
    "        # save the best model, early stopping\n",
    "        if total_validation_loss < best_loss:\n",
    "            best_loss = total_validation_loss\n",
    "            best_model_state = model.state_dict().copy()\n",
    "\n",
    "        pbar.set_description(f\"Training Loss: {total_training_loss:.4f} Validation Loss: {total_validation_loss:.5f} Validation Accuracy: {validation_accuracy:.5f}\")\n",
    "    \n",
    "    if best_model_state is not None:\n",
    "        model.load_state_dict(best_model_state)\n",
    "    \n",
    "    return training_loss_per_epoch, validation_loss_per_epoch, validation_accuracy_per_epoch, model "
   ]
  },
  {
   "cell_type": "code",
   "execution_count": 111,
   "metadata": {},
   "outputs": [],
   "source": [
    "siamese_model = Siamese().to(device)\n",
    "criterion = nn.BCELoss()\n",
    "optimizer = torch.optim.Adam(siamese_model.parameters(), lr = 1e-3)"
   ]
  },
  {
   "cell_type": "code",
   "execution_count": 112,
   "metadata": {},
   "outputs": [],
   "source": [
    "_, total_training_loss = validate_siamese_model(siamese_model, criterion, trainloader)"
   ]
  },
  {
   "cell_type": "code",
   "execution_count": 113,
   "metadata": {},
   "outputs": [
    {
     "name": "stderr",
     "output_type": "stream",
     "text": [
      "Training Loss: 0.0000 Validation Loss: 1.82648 Validation Accuracy: 70.66667: 100%|██████████| 50/50 [05:42<00:00,  6.85s/epoch]\n"
     ]
    }
   ],
   "source": [
    "siamese_model_training_loss, siamese_model_validation_loss, siamese_model_validation_accuracy, siamese_model_model = \\\n",
    "        train_siamese_model(siamese_model, criterion, optimizer, trainloader, valloader, 50)"
   ]
  },
  {
   "cell_type": "code",
   "execution_count": 114,
   "metadata": {},
   "outputs": [
    {
     "data": {
      "image/png": "[encoded data removed]",
      "text/plain": [
       "<Figure size 1200x400 with 3 Axes>"
      ]
     },
     "metadata": {},
     "output_type": "display_data"
    }
   ],
   "source": [
    "view_training_graphs(siamese_model_training_loss, siamese_model_validation_loss, siamese_model_validation_accuracy, 'Siamese Network (GRU)')"
   ]
  }
 ],
 "metadata": {
  "kernelspec": {
   "display_name": "Python 3",
   "language": "python",
   "name": "python3"
  },
  "language_info": {
   "codemirror_mode": {
    "name": "ipython",
    "version": 3
   },
   "file_extension": ".py",
   "mimetype": "text/x-python",
   "name": "python",
   "nbconvert_exporter": "python",
   "pygments_lexer": "ipython3",
   "version": "3.9.18"
  },
  "orig_nbformat": 4
 },
 "nbformat": 4,
 "nbformat_minor": 2
}
